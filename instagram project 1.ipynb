{
 "cells": [
  {
   "cell_type": "code",
   "execution_count": 230,
   "metadata": {},
   "outputs": [
    {
     "data": {
      "text/plain": [
       "<selenium.webdriver.chrome.webdriver.WebDriver (session=\"e7ccfde0ad447e09774126b3abe7486c\")>"
      ]
     },
     "execution_count": 230,
     "metadata": {},
     "output_type": "execute_result"
    }
   ],
   "source": [
    "from selenium import webdriver\n",
    "driver = webdriver.Chrome('chromedriver')\n",
    "driver"
   ]
  },
  {
   "cell_type": "code",
   "execution_count": 231,
   "metadata": {},
   "outputs": [],
   "source": [
    "driver.get('https://www.instagram.com/')"
   ]
  },
  {
   "cell_type": "code",
   "execution_count": null,
   "metadata": {},
   "outputs": [],
   "source": [
    "search = driver.find_element_by_name('username')\n",
    "search.send_keys('8383014131')\n",
    "searchp = driver.find_element_by_name('password')\n",
    "searchp.send_keys('Gaurav@exit')\n",
    "searchp.submit()"
   ]
  },
  {
   "cell_type": "code",
   "execution_count": 237,
   "metadata": {},
   "outputs": [],
   "source": [
    "alert = driver.find_element_by_class_name(('mt3GC'))\n",
    "alert.click()"
   ]
  },
  {
   "cell_type": "code",
   "execution_count": 238,
   "metadata": {},
   "outputs": [],
   "source": [
    "searchf = driver.find_element_by_xpath('//input[contains(@class,\"XTCLo\")]')\n",
    "searchf.send_keys('food')"
   ]
  },
  {
   "cell_type": "code",
   "execution_count": 239,
   "metadata": {},
   "outputs": [
    {
     "name": "stdout",
     "output_type": "stream",
     "text": [
      "foodndyou\n",
      "foodynightcoder\n",
      "food.for.paws\n",
      "humtum_aur_food\n",
      "exploretagsfood\n",
      "exploretagsfoodporn\n",
      "food.darzee\n",
      "_on_fire_food_\n",
      "food\n",
      "__foodiesisters__\n",
      "yourfoodlab\n",
      "foodrush.recipe\n",
      "foodofcook\n",
      "arsfoodaffairs\n",
      "food_lunatic\n",
      "_food_is_my_first_wife\n",
      "foodstoriesbypranavkalra\n",
      "bengalurufoodclub\n",
      "foodtalkindia\n",
      "foodlustsince96\n",
      "food_dilli_blogger\n",
      "foodreviewskochi\n",
      "foodindiaa\n",
      "foodchate\n",
      "haqqq_se_foodie\n",
      "thegirlbornfoodie\n",
      "foodofchefs\n",
      "foodie_incarnate\n",
      "food_for.foodies\n",
      "foodaakarshan\n",
      "food_loves_foodiee\n",
      "__food_galaxy__\n",
      "foodonmymind__\n",
      "food._.yatra\n",
      "big_foodish\n",
      "foodtravelstories\n",
      "foodiesince96\n",
      "exploretagsfoodphotography\n",
      "exploretagsfoodie\n",
      "explorelocations1594398633950076horn-ok-please-food-truck-festival\n",
      "explorelocations401003331fun-n-food-village\n",
      "explorelocations526939297792038food-frolic-microbrewery-bar\n",
      "exploretagsfoodstagram\n",
      "meri_foodie_kismat_\n",
      "food_ie_for_life\n",
      "thatfoodstory\n",
      "__foodfood___\n",
      "foodgod\n",
      "desi_food_lover0\n",
      "thaparfoodfestival\n",
      "thisisdelhi\n",
      "omayfoods\n",
      "foodieebybirth\n",
      "foodiologylko\n",
      "food_o_sapiens\n",
      "my_food_craving_\n"
     ]
    }
   ],
   "source": [
    "from bs4 import BeautifulSoup\n",
    "data=  BeautifulSoup(driver.page_source)\n",
    "handle = data.find_all(class_ ='yCE8d' )\n",
    "for i in handle:\n",
    "    print(i['href'].replace('/',\"\"))"
   ]
  },
  {
   "cell_type": "code",
   "execution_count": 240,
   "metadata": {},
   "outputs": [],
   "source": [
    "searchf.clear()\n"
   ]
  },
  {
   "cell_type": "code",
   "execution_count": 241,
   "metadata": {},
   "outputs": [],
   "source": [
    "searchf.send_keys('So Delhi')"
   ]
  },
  {
   "cell_type": "code",
   "execution_count": 242,
   "metadata": {},
   "outputs": [],
   "source": [
    "so_delhi = driver.find_element_by_xpath('//span[contains(@class,\"Ap253\")]')\n",
    "so_delhi.click()"
   ]
  },
  {
   "cell_type": "code",
   "execution_count": 243,
   "metadata": {},
   "outputs": [],
   "source": [
    "follow = driver.find_element_by_xpath('//button[contains(@class,\"_5f5mN\")]')\n",
    "if follow.text.strip() == 'Following':\n",
    "    print('Already Following The Account')\n",
    "else:\n",
    "    follow.click()"
   ]
  },
  {
   "cell_type": "code",
   "execution_count": 244,
   "metadata": {},
   "outputs": [],
   "source": [
    "unfollow = driver.find_element_by_xpath('//button[contains(@class,\"_5f5mN\")]')\n",
    "if unfollow.text.strip() == 'Follow':\n",
    "    print('Already unFollowing The Account')\n",
    "else:\n",
    "    unfollow.click()\n",
    "    driver.find_element_by_xpath('//button[contains(@class,\"aOOlW -Cab_\")]').click()"
   ]
  },
  {
   "cell_type": "code",
   "execution_count": 245,
   "metadata": {},
   "outputs": [],
   "source": [
    "driver.back()"
   ]
  },
  {
   "cell_type": "code",
   "execution_count": 246,
   "metadata": {},
   "outputs": [],
   "source": [
    "searchd = driver.find_element_by_xpath('//input[contains(@class,\"XTCLo x3qfX\")]')\n",
    "searchd.send_keys('dilsefoodie')"
   ]
  },
  {
   "cell_type": "code",
   "execution_count": 247,
   "metadata": {},
   "outputs": [],
   "source": [
    "dilse = driver.find_element_by_xpath('//div[contains(@class,\"z556c\")]')\n",
    "dilse.click()"
   ]
  },
  {
   "cell_type": "code",
   "execution_count": 256,
   "metadata": {},
   "outputs": [],
   "source": [
    "photos = driver.find_element_by_xpath('//div[contains(@class,\"_9AhH0\")]')\n",
    "#next_ = driver.find_element_by_xpath('//a[contains(@class,\" _65Bje  coreSpriteRightPaginationArrow\")]')\n",
    "#like =  driver.find_element_by_xpath('//span[contains(@class,\"fr66n\")]')\n",
    "photos.click()\n",
    "i=0\n",
    "while i<30:\n",
    "    like =  driver.find_element_by_xpath('//span[contains(@class,\"fr66n\")]')\n",
    "    like.click()\n",
    "    #if like.fill == 'evenodd':\n",
    "        #print('already liked')\n",
    "    driver.implicitly_wait(4)\n",
    "    next_ = driver.find_element_by_xpath('//a[contains(@class,\" _65Bje  coreSpriteRightPaginationArrow\")]')\n",
    "    next_.click()\n",
    "    driver.implicitly_wait(5)\n",
    "    i=i+1\n",
    "    \n",
    "    \n",
    "    \n",
    "    \n",
    "    \n",
    "#import time\n",
    "#for i in range(10) :\n",
    " #   driver.execute_script(\n",
    "  #      'window.scrollBy(0, -1000);')\n",
    "   # time.sleep(3)\n",
    "\n"
   ]
  },
  {
   "cell_type": "code",
   "execution_count": null,
   "metadata": {},
   "outputs": [],
   "source": []
  },
  {
   "cell_type": "code",
   "execution_count": 276,
   "metadata": {},
   "outputs": [],
   "source": [
    "# if u want to play the video click this button\n",
    "hidden = driver.find_element_by_xpath('//div[contains(@class,\"_2dDPU CkGkG\")]')\n",
    "hidden.click()"
   ]
  },
  {
   "cell_type": "code",
   "execution_count": null,
   "metadata": {},
   "outputs": [],
   "source": []
  },
  {
   "cell_type": "code",
   "execution_count": 301,
   "metadata": {},
   "outputs": [],
   "source": [
    "driver.back()"
   ]
  },
  {
   "cell_type": "code",
   "execution_count": 309,
   "metadata": {},
   "outputs": [],
   "source": [
    "searchg = driver.find_element_by_xpath('//input[contains(@class,\"XTCLo x3qfX\")]')"
   ]
  },
  {
   "cell_type": "code",
   "execution_count": 311,
   "metadata": {},
   "outputs": [],
   "source": [
    "searchg.click()"
   ]
  },
  {
   "cell_type": "code",
   "execution_count": 312,
   "metadata": {},
   "outputs": [],
   "source": [
    "searche.send_keys('foodtalkindia')"
   ]
  },
  {
   "cell_type": "code",
   "execution_count": 313,
   "metadata": {},
   "outputs": [],
   "source": [
    "foodtalkindia = driver.find_element_by_xpath('//div[contains(@class,\"z556c\")]')\n"
   ]
  },
  {
   "cell_type": "code",
   "execution_count": 314,
   "metadata": {},
   "outputs": [],
   "source": [
    "foodtalkindia.click()"
   ]
  },
  {
   "cell_type": "code",
   "execution_count": 316,
   "metadata": {},
   "outputs": [],
   "source": [
    "followers = driver.find_element_by_xpath('//a[contains(@class,\" _81NM2\")]')\n",
    "followers.click()"
   ]
  },
  {
   "cell_type": "code",
   "execution_count": 342,
   "metadata": {},
   "outputs": [],
   "source": [
    "import time\n",
    "for i in range(5) :\n",
    "    driver.execute_script(\n",
    "        'window.scrollBy(0, 1000);')\n",
    "    time.sleep(3)"
   ]
  },
  {
   "cell_type": "code",
   "execution_count": 352,
   "metadata": {},
   "outputs": [],
   "source": [
    "username = driver.find_elements_by_xpath('//a[contains(@class,\"FPmhX notranslate  _0imsa \")]')"
   ]
  },
  {
   "cell_type": "code",
   "execution_count": 345,
   "metadata": {},
   "outputs": [],
   "source": [
    "import time\n",
    "for i in range(5) :\n",
    "    driver.execute_script(\n",
    "        'window.scrollBy(0, 1000);')\n",
    "    time.sleep(3)"
   ]
  },
  {
   "cell_type": "code",
   "execution_count": 354,
   "metadata": {},
   "outputs": [],
   "source": [
    "followers =[]\n",
    "j=0\n",
    "while j<500:\n",
    "    for i in (username):\n",
    "        followers.append(i.text)\n",
    "        j=j+1\n"
   ]
  },
  {
   "cell_type": "code",
   "execution_count": 385,
   "metadata": {},
   "outputs": [
    {
     "data": {
      "text/html": [
       "<div>\n",
       "<style scoped>\n",
       "    .dataframe tbody tr th:only-of-type {\n",
       "        vertical-align: middle;\n",
       "    }\n",
       "\n",
       "    .dataframe tbody tr th {\n",
       "        vertical-align: top;\n",
       "    }\n",
       "\n",
       "    .dataframe thead th {\n",
       "        text-align: right;\n",
       "    }\n",
       "</style>\n",
       "<table border=\"1\" class=\"dataframe\">\n",
       "  <thead>\n",
       "    <tr style=\"text-align: right;\">\n",
       "      <th></th>\n",
       "      <th>title</th>\n",
       "    </tr>\n",
       "  </thead>\n",
       "  <tbody>\n",
       "    <tr>\n",
       "      <th>0</th>\n",
       "      <td>1927___fatima</td>\n",
       "    </tr>\n",
       "    <tr>\n",
       "      <th>1</th>\n",
       "      <td>3377naidu</td>\n",
       "    </tr>\n",
       "    <tr>\n",
       "      <th>2</th>\n",
       "      <td>56dukan</td>\n",
       "    </tr>\n",
       "    <tr>\n",
       "      <th>3</th>\n",
       "      <td>90.63843512</td>\n",
       "    </tr>\n",
       "    <tr>\n",
       "      <th>4</th>\n",
       "      <td>_.ms.roy._</td>\n",
       "    </tr>\n",
       "    <tr>\n",
       "      <th>5</th>\n",
       "      <td>_.no_not_me._</td>\n",
       "    </tr>\n",
       "    <tr>\n",
       "      <th>6</th>\n",
       "      <td>________stanzil_________</td>\n",
       "    </tr>\n",
       "    <tr>\n",
       "      <th>7</th>\n",
       "      <td>____queens_castle____</td>\n",
       "    </tr>\n",
       "    <tr>\n",
       "      <th>8</th>\n",
       "      <td>___priya.mehta___</td>\n",
       "    </tr>\n",
       "    <tr>\n",
       "      <th>9</th>\n",
       "      <td>___theroyal4141___</td>\n",
       "    </tr>\n",
       "    <tr>\n",
       "      <th>10</th>\n",
       "      <td>__anuuuuu__</td>\n",
       "    </tr>\n",
       "    <tr>\n",
       "      <th>11</th>\n",
       "      <td>__cookies_and_cups__</td>\n",
       "    </tr>\n",
       "    <tr>\n",
       "      <th>12</th>\n",
       "      <td>__king__of__attitude</td>\n",
       "    </tr>\n",
       "    <tr>\n",
       "      <th>13</th>\n",
       "      <td>__radhika108__</td>\n",
       "    </tr>\n",
       "    <tr>\n",
       "      <th>14</th>\n",
       "      <td>__table.for.two__</td>\n",
       "    </tr>\n",
       "    <tr>\n",
       "      <th>15</th>\n",
       "      <td>_anjali._.30_</td>\n",
       "    </tr>\n",
       "    <tr>\n",
       "      <th>16</th>\n",
       "      <td>_eat.love.life</td>\n",
       "    </tr>\n",
       "    <tr>\n",
       "      <th>17</th>\n",
       "      <td>_happy_deol</td>\n",
       "    </tr>\n",
       "    <tr>\n",
       "      <th>18</th>\n",
       "      <td>_head.over.meals</td>\n",
       "    </tr>\n",
       "    <tr>\n",
       "      <th>19</th>\n",
       "      <td>_jas_kaur3</td>\n",
       "    </tr>\n",
       "    <tr>\n",
       "      <th>20</th>\n",
       "      <td>_jerry_patil</td>\n",
       "    </tr>\n",
       "    <tr>\n",
       "      <th>21</th>\n",
       "      <td>_justfoodiethings</td>\n",
       "    </tr>\n",
       "    <tr>\n",
       "      <th>22</th>\n",
       "      <td>_nikhil44</td>\n",
       "    </tr>\n",
       "    <tr>\n",
       "      <th>23</th>\n",
       "      <td>_perfect_reflection</td>\n",
       "    </tr>\n",
       "    <tr>\n",
       "      <th>24</th>\n",
       "      <td>_positive_way_of_life_</td>\n",
       "    </tr>\n",
       "    <tr>\n",
       "      <th>25</th>\n",
       "      <td>_pratik_kadnar9085</td>\n",
       "    </tr>\n",
       "    <tr>\n",
       "      <th>26</th>\n",
       "      <td>_rzkz_</td>\n",
       "    </tr>\n",
       "    <tr>\n",
       "      <th>27</th>\n",
       "      <td>_shubu8_</td>\n",
       "    </tr>\n",
       "    <tr>\n",
       "      <th>28</th>\n",
       "      <td>_silvershadesss_</td>\n",
       "    </tr>\n",
       "    <tr>\n",
       "      <th>29</th>\n",
       "      <td>_srishti26</td>\n",
       "    </tr>\n",
       "    <tr>\n",
       "      <th>...</th>\n",
       "      <td>...</td>\n",
       "    </tr>\n",
       "    <tr>\n",
       "      <th>470</th>\n",
       "      <td>styloboykushal</td>\n",
       "    </tr>\n",
       "    <tr>\n",
       "      <th>471</th>\n",
       "      <td>sugitadevi15</td>\n",
       "    </tr>\n",
       "    <tr>\n",
       "      <th>472</th>\n",
       "      <td>suhailkhan1300</td>\n",
       "    </tr>\n",
       "    <tr>\n",
       "      <th>473</th>\n",
       "      <td>suhan862</td>\n",
       "    </tr>\n",
       "    <tr>\n",
       "      <th>474</th>\n",
       "      <td>sujatasoni8</td>\n",
       "    </tr>\n",
       "    <tr>\n",
       "      <th>475</th>\n",
       "      <td>sumansingh1975</td>\n",
       "    </tr>\n",
       "    <tr>\n",
       "      <th>476</th>\n",
       "      <td>sun_joy_19</td>\n",
       "    </tr>\n",
       "    <tr>\n",
       "      <th>477</th>\n",
       "      <td>sunaina.saxena</td>\n",
       "    </tr>\n",
       "    <tr>\n",
       "      <th>478</th>\n",
       "      <td>suyashguglani</td>\n",
       "    </tr>\n",
       "    <tr>\n",
       "      <th>479</th>\n",
       "      <td>svetlanaaroundtheglobe</td>\n",
       "    </tr>\n",
       "    <tr>\n",
       "      <th>480</th>\n",
       "      <td>swag_bebe_nishtha</td>\n",
       "    </tr>\n",
       "    <tr>\n",
       "      <th>481</th>\n",
       "      <td>sweathanik</td>\n",
       "    </tr>\n",
       "    <tr>\n",
       "      <th>482</th>\n",
       "      <td>sweethomebakery1</td>\n",
       "    </tr>\n",
       "    <tr>\n",
       "      <th>483</th>\n",
       "      <td>syn_styles</td>\n",
       "    </tr>\n",
       "    <tr>\n",
       "      <th>484</th>\n",
       "      <td>taerodynamics</td>\n",
       "    </tr>\n",
       "    <tr>\n",
       "      <th>485</th>\n",
       "      <td>talha_nazim</td>\n",
       "    </tr>\n",
       "    <tr>\n",
       "      <th>486</th>\n",
       "      <td>talk.tostars273</td>\n",
       "    </tr>\n",
       "    <tr>\n",
       "      <th>487</th>\n",
       "      <td>tanmoyghosh24</td>\n",
       "    </tr>\n",
       "    <tr>\n",
       "      <th>488</th>\n",
       "      <td>tastecraving</td>\n",
       "    </tr>\n",
       "    <tr>\n",
       "      <th>489</th>\n",
       "      <td>tasteofrajputanaa</td>\n",
       "    </tr>\n",
       "    <tr>\n",
       "      <th>490</th>\n",
       "      <td>tejani_radhika</td>\n",
       "    </tr>\n",
       "    <tr>\n",
       "      <th>491</th>\n",
       "      <td>tempting_tales1118</td>\n",
       "    </tr>\n",
       "    <tr>\n",
       "      <th>492</th>\n",
       "      <td>the.open.journal</td>\n",
       "    </tr>\n",
       "    <tr>\n",
       "      <th>493</th>\n",
       "      <td>the_creative_girl1</td>\n",
       "    </tr>\n",
       "    <tr>\n",
       "      <th>494</th>\n",
       "      <td>the_escaped_bite</td>\n",
       "    </tr>\n",
       "    <tr>\n",
       "      <th>495</th>\n",
       "      <td>the_food_philosophy25</td>\n",
       "    </tr>\n",
       "    <tr>\n",
       "      <th>496</th>\n",
       "      <td>the_food_point</td>\n",
       "    </tr>\n",
       "    <tr>\n",
       "      <th>497</th>\n",
       "      <td>the_kaif_shl_m</td>\n",
       "    </tr>\n",
       "    <tr>\n",
       "      <th>498</th>\n",
       "      <td>the_panther1141</td>\n",
       "    </tr>\n",
       "    <tr>\n",
       "      <th>499</th>\n",
       "      <td>theamicochef</td>\n",
       "    </tr>\n",
       "  </tbody>\n",
       "</table>\n",
       "<p>500 rows × 1 columns</p>\n",
       "</div>"
      ],
      "text/plain": [
       "                        title\n",
       "0               1927___fatima\n",
       "1                   3377naidu\n",
       "2                     56dukan\n",
       "3                 90.63843512\n",
       "4                  _.ms.roy._\n",
       "5               _.no_not_me._\n",
       "6    ________stanzil_________\n",
       "7       ____queens_castle____\n",
       "8           ___priya.mehta___\n",
       "9          ___theroyal4141___\n",
       "10                __anuuuuu__\n",
       "11       __cookies_and_cups__\n",
       "12       __king__of__attitude\n",
       "13             __radhika108__\n",
       "14          __table.for.two__\n",
       "15              _anjali._.30_\n",
       "16             _eat.love.life\n",
       "17                _happy_deol\n",
       "18           _head.over.meals\n",
       "19                 _jas_kaur3\n",
       "20               _jerry_patil\n",
       "21          _justfoodiethings\n",
       "22                  _nikhil44\n",
       "23        _perfect_reflection\n",
       "24     _positive_way_of_life_\n",
       "25         _pratik_kadnar9085\n",
       "26                     _rzkz_\n",
       "27                   _shubu8_\n",
       "28           _silvershadesss_\n",
       "29                 _srishti26\n",
       "..                        ...\n",
       "470            styloboykushal\n",
       "471              sugitadevi15\n",
       "472            suhailkhan1300\n",
       "473                  suhan862\n",
       "474               sujatasoni8\n",
       "475            sumansingh1975\n",
       "476                sun_joy_19\n",
       "477            sunaina.saxena\n",
       "478             suyashguglani\n",
       "479    svetlanaaroundtheglobe\n",
       "480         swag_bebe_nishtha\n",
       "481                sweathanik\n",
       "482          sweethomebakery1\n",
       "483                syn_styles\n",
       "484             taerodynamics\n",
       "485               talha_nazim\n",
       "486           talk.tostars273\n",
       "487             tanmoyghosh24\n",
       "488              tastecraving\n",
       "489         tasteofrajputanaa\n",
       "490            tejani_radhika\n",
       "491        tempting_tales1118\n",
       "492          the.open.journal\n",
       "493        the_creative_girl1\n",
       "494          the_escaped_bite\n",
       "495     the_food_philosophy25\n",
       "496            the_food_point\n",
       "497            the_kaif_shl_m\n",
       "498           the_panther1141\n",
       "499              theamicochef\n",
       "\n",
       "[500 rows x 1 columns]"
      ]
     },
     "execution_count": 385,
     "metadata": {},
     "output_type": "execute_result"
    }
   ],
   "source": [
    "import pandas as pd \n",
    "\n",
    "df = pd.DataFrame(followers,columns = ['title'])\n",
    "df.head(500)"
   ]
  },
  {
   "cell_type": "markdown",
   "metadata": {},
   "source": [
    "### to print username of those who dont follow me but i follow them"
   ]
  },
  {
   "cell_type": "code",
   "execution_count": null,
   "metadata": {},
   "outputs": [],
   "source": [
    "username = driver.find_elements_by_xpath('//a[contains(@class,\"FPmhX notranslate  _0imsa \")]')"
   ]
  },
  {
   "cell_type": "code",
   "execution_count": 392,
   "metadata": {},
   "outputs": [],
   "source": [
    "button  =  driver.find_elements_by_xpath('//button[contains(@class,\"sqdOP  L3NKy   y3zKF\")]')"
   ]
  },
  {
   "cell_type": "code",
   "execution_count": 423,
   "metadata": {},
   "outputs": [
    {
     "name": "stdout",
     "output_type": "stream",
     "text": [
      "false\n"
     ]
    }
   ],
   "source": [
    "\n",
    "if 'Following' in  button:\n",
    "    print('True')\n",
    "else:\n",
    "    print('false')\n",
    "        "
   ]
  },
  {
   "cell_type": "code",
   "execution_count": null,
   "metadata": {},
   "outputs": [],
   "source": []
  },
  {
   "cell_type": "code",
   "execution_count": 432,
   "metadata": {},
   "outputs": [],
   "source": [
    "driver.back()"
   ]
  },
  {
   "cell_type": "code",
   "execution_count": null,
   "metadata": {},
   "outputs": [],
   "source": []
  },
  {
   "cell_type": "code",
   "execution_count": 471,
   "metadata": {},
   "outputs": [],
   "source": [
    "searchg = driver.find_element_by_xpath('//input[contains(@class,\"XTCLo x3qfX\")]')\n",
    "searchg.click()\n"
   ]
  },
  {
   "cell_type": "code",
   "execution_count": 472,
   "metadata": {},
   "outputs": [],
   "source": [
    "searchg.send_keys('coding.ninjas')"
   ]
  },
  {
   "cell_type": "code",
   "execution_count": 473,
   "metadata": {},
   "outputs": [],
   "source": [
    "image= driver.find_element_by_xpath('//div[contains(@class,\"RR-M- h5uC0 g9vPa\")]')"
   ]
  },
  {
   "cell_type": "code",
   "execution_count": 474,
   "metadata": {},
   "outputs": [],
   "source": [
    "image.click()"
   ]
  },
  {
   "cell_type": "code",
   "execution_count": 463,
   "metadata": {},
   "outputs": [],
   "source": [
    "story =driver.find_element_by_xpath('//div[contains(@class,\"scRau\")]')"
   ]
  },
  {
   "cell_type": "code",
   "execution_count": 466,
   "metadata": {},
   "outputs": [
    {
     "name": "stdout",
     "output_type": "stream",
     "text": [
      "story is not visible\n"
     ]
    }
   ],
   "source": [
    "if story.text == 'See More':\n",
    "    print('story is not visible')"
   ]
  }
 ],
 "metadata": {
  "kernelspec": {
   "display_name": "Python 3",
   "language": "python",
   "name": "python3"
  },
  "language_info": {
   "codemirror_mode": {
    "name": "ipython",
    "version": 3
   },
   "file_extension": ".py",
   "mimetype": "text/x-python",
   "name": "python",
   "nbconvert_exporter": "python",
   "pygments_lexer": "ipython3",
   "version": "3.7.3"
  }
 },
 "nbformat": 4,
 "nbformat_minor": 2
}
